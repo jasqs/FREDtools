{
 "cells": [
  {
   "cell_type": "markdown",
   "metadata": {},
   "source": [
    "# Gamma Index Analysis Tutorial"
   ]
  },
  {
   "cell_type": "markdown",
   "metadata": {},
   "source": [
    "This tutorial is presenting the gamma index (GI) analysis methods implemented in FREDtools. The GI computation is performed by an external C++ code provided as a shared library and developed by Angelo Schiavi from Sapienza University of Rome. This tutorial is based on the example files Ref.mhd and Eval.mhd available in the examples of the [GitHub repository](https://github.com/jasqs/FREDtools), which describe reference and evaluation dose distributions, respectively."
   ]
  },
  {
   "cell_type": "code",
   "execution_count": 1,
   "metadata": {
    "execution": {
     "iopub.execute_input": "2022-02-28T10:21:08.426483Z",
     "iopub.status.busy": "2022-02-28T10:21:08.426273Z",
     "iopub.status.idle": "2022-02-28T10:21:09.550088Z",
     "shell.execute_reply": "2022-02-28T10:21:09.549551Z",
     "shell.execute_reply.started": "2022-02-28T10:21:08.426461Z"
    },
    "tags": []
   },
   "outputs": [
    {
     "name": "stdout",
     "output_type": "stream",
     "text": [
      "Current FREDtools version 0.6.50\n"
     ]
    }
   ],
   "source": [
    "# Import of FREDtools and other useful modules\n",
    "import numpy as np\n",
    "import matplotlib.pyplot as plt\n",
    "\n",
    "import fredtools as ft\n",
    "print(\"Current FREDtools version\", ft.__version__)\n"
   ]
  },
  {
   "cell_type": "markdown",
   "metadata": {},
   "source": [
    "# Reading example file"
   ]
  },
  {
   "cell_type": "code",
   "execution_count": 2,
   "metadata": {
    "execution": {
     "iopub.execute_input": "2022-02-28T10:21:09.550943Z",
     "iopub.status.busy": "2022-02-28T10:21:09.550782Z",
     "iopub.status.idle": "2022-02-28T10:21:09.840422Z",
     "shell.execute_reply": "2022-02-28T10:21:09.839928Z",
     "shell.execute_reply.started": "2022-02-28T10:21:09.550909Z"
    },
    "tags": []
   },
   "outputs": [
    {
     "name": "stdout",
     "output_type": "stream",
     "text": [
      "### readMHD ###\n",
      "# 3D image describing volume (3D)\n",
      "# dims (xyz) =  [ 93 116 121]\n",
      "# voxel size [mm] =  [2.5 2.5 2.4]\n",
      "# origin [mm]     =  [-114.5117188 -356.4882813 -718.3      ]\n",
      "# x-spatial voxel centre [mm] =  [  -114.511719,  -112.011719, ...,   112.988281,   115.488281 ]\n",
      "# y-spatial voxel centre [mm] =  [  -356.488281,  -353.988281, ...,   -71.488281,   -68.988281 ]\n",
      "# z-spatial voxel centre [mm] =  [  -718.300000,  -715.900000, ...,  -432.700000,  -430.300000 ]\n",
      "# x-spatial extent [mm] =  [  -115.761719 ,   116.738281 ] =>   232.500000\n",
      "# y-spatial extent [mm] =  [  -357.738281 ,   -67.738281 ] =>   290.000000\n",
      "# z-spatial extent [mm] =  [  -719.500000 ,  -429.100000 ] =>   290.400000\n",
      "# volume = 19580220.00 mm3  =>  19.58 l\n",
      "# voxel volume = 15.00 mm3  =>  15.00 ul\n",
      "# data type:  64-bit float \n",
      "# range: from  0.0  to  39.123884725879094 \n",
      "# sum = 1181653.291965024 , mean = 0.9052400524343118 ( 4.738983902347923 ) \n",
      "# non-zero (dose=0)  voxels  = 115142 (8.82%) => 1.73 l \n",
      "# non-air (HU>-1000) voxels  = 1305348 (100.00%) => 19.58 l \n",
      "# Additional metadata:\n",
      "# ITK_InputFilterName    : MetaImageIO\n",
      "###############\n",
      "### readMHD ###\n",
      "# 3D image describing volume (3D)\n",
      "# dims (xyz) =  [155 191 192]\n",
      "# voxel size [mm] =  [1.5 1.5 1.5]\n",
      "# origin [mm]     =  [-113.508 -355.992 -718.15 ]\n",
      "# x-spatial voxel centre [mm] =  [  -113.508000,  -112.008000, ...,   115.992000,   117.492000 ]\n",
      "# y-spatial voxel centre [mm] =  [  -355.992000,  -354.492000, ...,   -72.492000,   -70.992000 ]\n",
      "# z-spatial voxel centre [mm] =  [  -718.150000,  -716.650000, ...,  -433.150000,  -431.650000 ]\n",
      "# x-spatial extent [mm] =  [  -114.258000 ,   118.242000 ] =>   232.500000\n",
      "# y-spatial extent [mm] =  [  -356.742000 ,   -70.242000 ] =>   286.500000\n",
      "# z-spatial extent [mm] =  [  -718.900000 ,  -430.900000 ] =>   288.000000\n",
      "# volume = 19184040.00 mm3  =>  19.18 l\n",
      "# voxel volume = 3.38 mm3  =>  3.38 ul\n",
      "# data type:  32-bit float \n",
      "# range: from  0.0  to  39.431602 \n",
      "# sum = 6375102.5 , mean = 1.1215558 ( 4.887908 ) \n",
      "# non-zero (dose=0)  voxels  = 4558292 (80.19%) => 15.38 l \n",
      "# non-air (HU>-1000) voxels  = 5684160 (100.00%) => 19.18 l \n",
      "# Additional metadata:\n",
      "# ITK_InputFilterName    : MetaImageIO\n",
      "###############\n"
     ]
    }
   ],
   "source": [
    "imgRef = ft.readMHD(\"Ref.mhd\", displayInfo=True) # voxel size [2.5 2.5 2.4]\n",
    "imgEval = ft.readMHD(\"Eval.mhd\", displayInfo=True) # voxel size [1.5 1.5 1.5]"
   ]
  },
  {
   "cell_type": "markdown",
   "metadata": {},
   "source": [
    "# calculate gamma index map (basic)"
   ]
  },
  {
   "cell_type": "code",
   "execution_count": 3,
   "metadata": {
    "execution": {
     "iopub.execute_input": "2022-02-28T10:21:09.841460Z",
     "iopub.status.busy": "2022-02-28T10:21:09.841280Z",
     "iopub.status.idle": "2022-02-28T10:21:13.422862Z",
     "shell.execute_reply": "2022-02-28T10:21:13.422359Z",
     "shell.execute_reply.started": "2022-02-28T10:21:09.841439Z"
    },
    "tags": []
   },
   "outputs": [
    {
     "name": "stdout",
     "output_type": "stream",
     "text": [
      "DTA,DD,DDT,DCO : 2 2 L 5\n",
      "\n",
      "Num of active voxel to be tested: 61631\n",
      "Interpolate dose values using neighboring voxels\n",
      "\n",
      "maxDose ref : 39.1239 Gy\n",
      "maxDose eval: 39.4316 Gy\n",
      "\n",
      "global normalisation dose : 39.1239 Gy\n",
      "\n",
      "DCO: 1.95619 Gy\n",
      "Using local DD for agreement: 2 %\n",
      "\n",
      "Evaluation grid step size: 0.2 mm  -> num of fractional steps per DTA = 10\n",
      "\n",
      "Maximum gamma searched for: inf\n",
      "Nref Neval 1305348 5684160\n",
      "Num of skimmed voxels: 0\n",
      "\n",
      "Executing the kernel on 12 threads ...\n",
      "\tsearching from 0 to DTA\n",
      "[  10  20  30  40  50  60  70  80  90 100]\n",
      " ........................................\n",
      "\tsearching from 1*DTA to 2*DTA\n",
      "[  10  20  30  40  50  60  70  80  90 100]\n",
      " ........................................\n",
      "\tsearching from 2*DTA to 3*DTA\n",
      "[  10  20  30  40  50  60  70  80  90 100]\n",
      " ........................................\n",
      "\tsearching from 3*DTA to 4*DTA\n",
      "[  10  20  30  40  50  60  70  80  90 100]\n",
      " ........................................\n",
      "\tsearching from 4*DTA to 5*DTA\n",
      "[  10  20  30  40  50  60  70  80  90 100]\n",
      " ........................................\n",
      "\tsearching from 5*DTA to 6*DTA\n",
      "[  10  20  30  40  50  60  70  80  90 100]\n",
      " ........................................\n",
      "\tsearching from 6*DTA to 7*DTA\n",
      "[  10  20  30  40  50  60  70  80  90 100]\n",
      " ........................................\n",
      "\tsearching from 7*DTA to 8*DTA\n",
      "[  10  20  30  40  50  60  70  80  90 100]\n",
      " ........................................\n",
      "\tsearching from 8*DTA to 9*DTA\n",
      "[  10  20  30  40  50  60  70  80  90 100]\n",
      " ........................................\n",
      "\tsearching from 9*DTA to 10*DTA\n",
      "[  10  20  30  40  50  60  70  80  90 100]\n",
      " ........................................\n",
      "\tsearching from 10*DTA to 11*DTA\n",
      "[  10  20  30  40  50  60  70  80  90 100]\n",
      " ........................................\n",
      "\n",
      "### calcGammaIndex ###\n",
      "\n",
      "Results:\n",
      "Num tested voxels: 61631\n",
      "Num passed voxels: 52636\n",
      "Num failed voxels: 8995\n",
      "\n",
      "Gamma-index min/max = 3.09981e-06 / 10.8049\n",
      "Gamma-index avg +/- 1 std = 0.540395 0.509179\n",
      "\n",
      "Gamma-index 2mm/2% pass-rate:  85.405075 %\n",
      "Done!\n",
      "# 3D image describing volume (3D)\n",
      "# dims (xyz) =  [ 93 116 121]\n",
      "# voxel size [mm] =  [2.5 2.5 2.4]\n",
      "# origin [mm]     =  [-114.5117188 -356.4882813 -718.3      ]\n",
      "# x-spatial voxel centre [mm] =  [  -114.511719,  -112.011719, ...,   112.988281,   115.488281 ]\n",
      "# y-spatial voxel centre [mm] =  [  -356.488281,  -353.988281, ...,   -71.488281,   -68.988281 ]\n",
      "# z-spatial voxel centre [mm] =  [  -718.300000,  -715.900000, ...,  -432.700000,  -430.300000 ]\n",
      "# x-spatial extent [mm] =  [  -115.761719 ,   116.738281 ] =>   232.500000\n",
      "# y-spatial extent [mm] =  [  -357.738281 ,   -67.738281 ] =>   290.000000\n",
      "# z-spatial extent [mm] =  [  -719.500000 ,  -429.100000 ] =>   290.400000\n",
      "# volume = 19580220.00 mm3  =>  19.58 l\n",
      "# voxel volume = 15.00 mm3  =>  15.00 ul\n",
      "# data type:  32-bit float \n",
      "# range: from  -1.0  to  10.804873 \n",
      "# sum = -1210478.2 , mean = -0.92732227 ( 0.34434244 ) \n",
      "# non-zero (dose=0)  voxels  = 1305348 (100.00%) => 19.58 l \n",
      "# non-air (HU>-1000) voxels  = 1305348 (100.00%) => 19.58 l \n",
      "# Additional metadata:\n",
      "# DCO       : 0.05\n",
      "# DD        : 2\n",
      "# DDType    : local\n",
      "# DTA       : 2\n",
      "# GIPR      : 85.40507507324219\n",
      "# GIVersion : 4.2\u0000\u0000\u0000\u0000\u0000\u0000\u0000\u0000\u0000\u0000\u0000\u0000\u0000\u0000\u0000\u0000\u0000\u0000\u0000\u0000\u0000\u0000\u0000\u0000\u0000\u0000\u0000\u0000\u0000\u0000\u0000\u0000\u0000\u0000\u0000\u0000\u0000\u0000\u0000\u0000\u0000\u0000\u0000\u0000\u0000\u0000\u0000\u0000\u0000\u0000\u0000\u0000\u0000\u0000\u0000\u0000\u0000\u0000\u0000\u0000\u0000\u0000\u0000\u0000\u0000\u0000\u0000\u0000\u0000\u0000\u0000\u0000\u0000\u0000\u0000\u0000\u0000\u0000\u0000\u0000\u0000\u0000\u0000\u0000\u0000\u0000\u0000\u0000\u0000\u0000\u0000\u0000\u0000\u0000\u0000\u0000\u0000\u0000\u0000\u0000\u0000\u0000\u0000\u0000\u0000\u0000\u0000\u0000\u0000\u0000\u0000\u0000\u0000\u0000\u0000\u0000\u0000\u0000\u0000\u0000\u0000\u0000\u0000\u0000\u0000\u0000\u0000\u0000\u0000\u0000\u0000\u0000\u0000\u0000\u0000\u0000\u0000\u0000\u0000\u0000\u0000\u0000\u0000\u0000\u0000\u0000\u0000\u0000\u0000\u0000\u0000\u0000\u0000\u0000\u0000\u0000\u0000\u0000\u0000\u0000\u0000\u0000\u0000\u0000\u0000\u0000\u0000\u0000\u0000\u0000\u0000\u0000\u0000\u0000\u0000\u0000\u0000\u0000\u0000\u0000\u0000\u0000\u0000\u0000\u0000\u0000\u0000\u0000\u0000\u0000\u0000\u0000\u0000\u0000\u0000\u0000\u0000\u0000\u0000\u0000\u0000\u0000\u0000\u0000\u0000\u0000\u0000\u0000\u0000\u0000\u0000\u0000\u0000\u0000\u0000\u0000\u0000\u0000\u0000\u0000\u0000\u0000\u0000\u0000\u0000\u0000\u0000\u0000\u0000\u0000\u0000\u0000\u0000\u0000\u0000\u0000\u0000\u0000\u0000\u0000\u0000\u0000\u0000\u0000\u0000\u0000\u0000\u0000\u0000\u0000\u0000\u0000\u0000\n",
      "# mode      : gamma\n",
      "# stepSize  : 0.2\n",
      "######################\n",
      "### getGIstat ###\n",
      "# GIPR: 85.42\n",
      "# mean/std: 0.54 / 0.50\n",
      "# min/max: 0.00 / 10.80\n",
      "#################\n"
     ]
    }
   ],
   "source": [
    "# Many options can be changed when calculating the GI. Refer to the documentation for more details\n",
    "\n",
    "\"\"\"\n",
    "By default it is only needed to specify the reference and evaluation images and the calculation criteria, \n",
    "like dose-difference, distance-to-agreement and dose-cutoff.\n",
    "\"\"\"\n",
    "imgGI=ft.calcGammaIndex(imgRef, imgEval, DD=2, DTA=2, DCO=0.05, displayInfo=True)\n",
    "\n",
    "\n",
    "\"\"\"\n",
    "To calculate the GI statistics use the following function which returns a dictionary with the statistical parameters.\n",
    "\"\"\"\n",
    "statGI=ft.getGIstat(imgGI, displayInfo=True)"
   ]
  },
  {
   "cell_type": "code",
   "execution_count": 4,
   "metadata": {
    "execution": {
     "iopub.execute_input": "2022-02-28T10:21:13.423888Z",
     "iopub.status.busy": "2022-02-28T10:21:13.423732Z",
     "iopub.status.idle": "2022-02-28T10:21:13.469719Z",
     "shell.execute_reply": "2022-02-28T10:21:13.469194Z",
     "shell.execute_reply.started": "2022-02-28T10:21:13.423867Z"
    },
    "tags": []
   },
   "outputs": [
    {
     "name": "stdout",
     "output_type": "stream",
     "text": [
      "### displayImageInfo ###\n",
      "# 3D image describing volume (3D)\n",
      "# dims (xyz) =  [ 93 116 121]\n",
      "# voxel size [mm] =  [2.5 2.5 2.4]\n",
      "# origin [mm]     =  [-114.5117188 -356.4882813 -718.3      ]\n",
      "# x-spatial voxel centre [mm] =  [  -114.511719,  -112.011719, ...,   112.988281,   115.488281 ]\n",
      "# y-spatial voxel centre [mm] =  [  -356.488281,  -353.988281, ...,   -71.488281,   -68.988281 ]\n",
      "# z-spatial voxel centre [mm] =  [  -718.300000,  -715.900000, ...,  -432.700000,  -430.300000 ]\n",
      "# x-spatial extent [mm] =  [  -115.761719 ,   116.738281 ] =>   232.500000\n",
      "# y-spatial extent [mm] =  [  -357.738281 ,   -67.738281 ] =>   290.000000\n",
      "# z-spatial extent [mm] =  [  -719.500000 ,  -429.100000 ] =>   290.400000\n",
      "# volume = 19580220.00 mm3  =>  19.58 l\n",
      "# voxel volume = 15.00 mm3  =>  15.00 ul\n",
      "# data type:  32-bit float \n",
      "# range: from  -1.0  to  10.804873 \n",
      "# sum = -1210478.2 , mean = -0.92732227 ( 0.34434244 ) \n",
      "# non-zero (dose=0)  voxels  = 1305348 (100.00%) => 19.58 l \n",
      "# non-air (HU>-1000) voxels  = 1305348 (100.00%) => 19.58 l \n",
      "# Additional metadata:\n",
      "# DCO       : 0.05\n",
      "# DD        : 2\n",
      "# DDType    : local\n",
      "# DTA       : 2\n",
      "# GIPR      : 85.40507507324219\n",
      "# GIVersion : 4.2\u0000\u0000\u0000\u0000\u0000\u0000\u0000\u0000\u0000\u0000\u0000\u0000\u0000\u0000\u0000\u0000\u0000\u0000\u0000\u0000\u0000\u0000\u0000\u0000\u0000\u0000\u0000\u0000\u0000\u0000\u0000\u0000\u0000\u0000\u0000\u0000\u0000\u0000\u0000\u0000\u0000\u0000\u0000\u0000\u0000\u0000\u0000\u0000\u0000\u0000\u0000\u0000\u0000\u0000\u0000\u0000\u0000\u0000\u0000\u0000\u0000\u0000\u0000\u0000\u0000\u0000\u0000\u0000\u0000\u0000\u0000\u0000\u0000\u0000\u0000\u0000\u0000\u0000\u0000\u0000\u0000\u0000\u0000\u0000\u0000\u0000\u0000\u0000\u0000\u0000\u0000\u0000\u0000\u0000\u0000\u0000\u0000\u0000\u0000\u0000\u0000\u0000\u0000\u0000\u0000\u0000\u0000\u0000\u0000\u0000\u0000\u0000\u0000\u0000\u0000\u0000\u0000\u0000\u0000\u0000\u0000\u0000\u0000\u0000\u0000\u0000\u0000\u0000\u0000\u0000\u0000\u0000\u0000\u0000\u0000\u0000\u0000\u0000\u0000\u0000\u0000\u0000\u0000\u0000\u0000\u0000\u0000\u0000\u0000\u0000\u0000\u0000\u0000\u0000\u0000\u0000\u0000\u0000\u0000\u0000\u0000\u0000\u0000\u0000\u0000\u0000\u0000\u0000\u0000\u0000\u0000\u0000\u0000\u0000\u0000\u0000\u0000\u0000\u0000\u0000\u0000\u0000\u0000\u0000\u0000\u0000\u0000\u0000\u0000\u0000\u0000\u0000\u0000\u0000\u0000\u0000\u0000\u0000\u0000\u0000\u0000\u0000\u0000\u0000\u0000\u0000\u0000\u0000\u0000\u0000\u0000\u0000\u0000\u0000\u0000\u0000\u0000\u0000\u0000\u0000\u0000\u0000\u0000\u0000\u0000\u0000\u0000\u0000\u0000\u0000\u0000\u0000\u0000\u0000\u0000\u0000\u0000\u0000\u0000\u0000\u0000\u0000\u0000\u0000\u0000\u0000\u0000\u0000\u0000\u0000\u0000\u0000\u0000\n",
      "# mode      : gamma\n",
      "# stepSize  : 0.2\n",
      "########################\n"
     ]
    }
   ],
   "source": [
    "# The GI parameters are saved as tags to the img and will be saved to HMD header\n",
    "ft.displayImageInfo(imgGI)"
   ]
  },
  {
   "cell_type": "markdown",
   "metadata": {},
   "source": [
    "# calculate gamma index map (advanced)"
   ]
  },
  {
   "cell_type": "code",
   "execution_count": 5,
   "metadata": {
    "execution": {
     "iopub.execute_input": "2022-02-28T10:21:13.470668Z",
     "iopub.status.busy": "2022-02-28T10:21:13.470404Z",
     "iopub.status.idle": "2022-02-28T10:21:25.077337Z",
     "shell.execute_reply": "2022-02-28T10:21:25.074941Z",
     "shell.execute_reply.started": "2022-02-28T10:21:13.470647Z"
    },
    "tags": []
   },
   "outputs": [
    {
     "name": "stdout",
     "output_type": "stream",
     "text": [
      "The same configuration as in the basic example but run on 10 threads instead of all available.\n",
      "### getGIstat ###\n",
      "# GIPR: 85.42\n",
      "# mean/std: 0.54 / 0.50\n",
      "# min/max: 0.00 / 10.80\n",
      "#################\n",
      "Dose difference set to global and only the pass rate calculated.\n",
      "### getGIstat ###\n",
      "# GIPR: 87.85\n",
      "#################\n",
      "The same as the previous but with the fractional step size increased.\n",
      "### getGIstat ###\n",
      "# GIPR: 88.10\n",
      "#################\n",
      "Gamma calculation mode with local normalisaiton set to 30.\n",
      "### getGIstat ###\n",
      "# GIPR: 85.53\n",
      "# mean/std: 0.54 / 0.51\n",
      "# min/max: 0.00 / 10.80\n",
      "#################\n"
     ]
    }
   ],
   "source": [
    "\"\"\"\n",
    "It is possible to define many other parameters. Refer to the documentation for more details. A few examples below.\n",
    "\"\"\"\n",
    "print(\"The same configuration as in the basic example but run on 10 threads instead of all available.\")\n",
    "imgGI=ft.calcGammaIndex(imgRef, imgEval, DD=2, DTA=2, DCO=0.05, DDType=\"local\",\n",
    "                        stepSize=10, fractionalStepSize=True, \n",
    "                        mode=\"gamma\", CPUNo=10, displayInfo=False)\n",
    "statGI=ft.getGIstat(imgGI, displayInfo=True)\n",
    "\n",
    "print(\"Dose difference set to global and only the pass rate calculated.\")\n",
    "imgGI=ft.calcGammaIndex(imgRef, imgEval, DD=2, DTA=2, DCO=0.05, DDType=\"global\",\n",
    "                        stepSize=10, fractionalStepSize=True, \n",
    "                        mode=\"pass-rate\", CPUNo=\"auto\", displayInfo=False)\n",
    "statGI=ft.getGIstat(imgGI, displayInfo=True)\n",
    "\n",
    "print(\"The same as the previous but with the fractional step size increased.\")\n",
    "imgGI=ft.calcGammaIndex(imgRef, imgEval, DD=2, DTA=2, DCO=0.05, DDType=\"global\",\n",
    "                        stepSize=20, fractionalStepSize=True, \n",
    "                        mode=\"pass-rate\", CPUNo=\"auto\", displayInfo=False)\n",
    "statGI=ft.getGIstat(imgGI, displayInfo=True)\n",
    "\n",
    "print(\"Gamma calculation mode with local normalisaiton set to 30.\")\n",
    "imgGI=ft.calcGammaIndex(imgRef, imgEval, DD=2, DTA=2, DCO=0.05, DDType=\"local\", globalNorm=30, \n",
    "                        stepSize=10, fractionalStepSize=True, \n",
    "                        mode=\"gamma\", CPUNo=\"auto\", displayInfo=False)\n",
    "statGI=ft.getGIstat(imgGI, displayInfo=True)\n"
   ]
  }
 ],
 "metadata": {
  "kernelspec": {
   "display_name": "Python 3 (ipykernel)",
   "language": "python",
   "name": "python3"
  },
  "language_info": {
   "codemirror_mode": {
    "name": "ipython",
    "version": 3
   },
   "file_extension": ".py",
   "mimetype": "text/x-python",
   "name": "python",
   "nbconvert_exporter": "python",
   "pygments_lexer": "ipython3",
   "version": "3.9.7"
  },
  "widgets": {
   "application/vnd.jupyter.widget-state+json": {
    "state": {},
    "version_major": 2,
    "version_minor": 0
   }
  }
 },
 "nbformat": 4,
 "nbformat_minor": 4
}
