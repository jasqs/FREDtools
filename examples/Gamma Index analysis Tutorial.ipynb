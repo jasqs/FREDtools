{
 "cells": [
  {
   "cell_type": "markdown",
   "metadata": {},
   "source": [
    "# Gmma Index Analysis Tutorial"
   ]
  },
  {
   "cell_type": "markdown",
   "metadata": {},
   "source": [
    "This short tutorial is presenting the analysis methods implemented in FREDtools braggPeak class. It is based on the example file SinglePencilBeam_150MeV.mhd available in the examples of the [GitHub repository](https://github.com/jasqs/FREDtools). The MetaImage file is a dose distribution in water of a single pencil (PB) beam with initial energy 150 MeV calculated in a Monte Carlo simulation. The the PB was simulated in a water phantom of size $10x10x30\\,cm^3$ with voxel size $1x1x1\\,mm^3$ and the beam was delivered along $Z$ axis."
   ]
  },
  {
   "cell_type": "code",
   "execution_count": 1,
   "metadata": {
    "execution": {
     "iopub.execute_input": "2021-11-09T21:07:08.386217Z",
     "iopub.status.busy": "2021-11-09T21:07:08.385977Z",
     "iopub.status.idle": "2021-11-09T21:07:08.798717Z",
     "shell.execute_reply": "2021-11-09T21:07:08.798329Z",
     "shell.execute_reply.started": "2021-11-09T21:07:08.386200Z"
    },
    "tags": []
   },
   "outputs": [
    {
     "name": "stdout",
     "output_type": "stream",
     "text": [
      "Current FREDtools version 0.6.31\n"
     ]
    }
   ],
   "source": [
    "# Import of FREDtools and other useful modules\n",
    "import numpy as np\n",
    "import matplotlib.pyplot as plt\n",
    "\n",
    "import fredtools as ft\n",
    "print(\"Current FREDtools version\", ft.__version__)\n"
   ]
  },
  {
   "cell_type": "markdown",
   "metadata": {},
   "source": [
    "## Reading example file"
   ]
  },
  {
   "cell_type": "code",
   "execution_count": 2,
   "metadata": {
    "execution": {
     "iopub.execute_input": "2021-11-09T21:18:04.765456Z",
     "iopub.status.busy": "2021-11-09T21:18:04.765253Z",
     "iopub.status.idle": "2021-11-09T21:18:04.768519Z",
     "shell.execute_reply": "2021-11-09T21:18:04.767720Z",
     "shell.execute_reply.started": "2021-11-09T21:18:04.765432Z"
    },
    "tags": []
   },
   "outputs": [],
   "source": [
    "TODO"
   ]
  }
 ],
 "metadata": {
  "kernelspec": {
   "display_name": "Python 3 (ipykernel)",
   "language": "python",
   "name": "python3"
  },
  "language_info": {
   "codemirror_mode": {
    "name": "ipython",
    "version": 3
   },
   "file_extension": ".py",
   "mimetype": "text/x-python",
   "name": "python",
   "nbconvert_exporter": "python",
   "pygments_lexer": "ipython3",
   "version": "3.9.7"
  },
  "widgets": {
   "application/vnd.jupyter.widget-state+json": {
    "state": {},
    "version_major": 2,
    "version_minor": 0
   }
  }
 },
 "nbformat": 4,
 "nbformat_minor": 4
}
